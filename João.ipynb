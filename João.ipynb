{
  "nbformat": 4,
  "nbformat_minor": 0,
  "metadata": {
    "colab": {
      "provenance": []
    },
    "kernelspec": {
      "name": "python3",
      "display_name": "Python 3"
    },
    "language_info": {
      "name": "python"
    }
  },
  "cells": [
    {
      "cell_type": "code",
      "execution_count": 1,
      "metadata": {
        "colab": {
          "base_uri": "https://localhost:8080/"
        },
        "id": "8oJU2nFR53hv",
        "outputId": "85af9217-3491-4b18-d9b4-29b493c0215b"
      },
      "outputs": [
        {
          "output_type": "stream",
          "name": "stdout",
          "text": [
            "Requirement already satisfied: google-generativeai in /usr/local/lib/python3.10/dist-packages (0.5.2)\n",
            "Requirement already satisfied: google-ai-generativelanguage==0.6.2 in /usr/local/lib/python3.10/dist-packages (from google-generativeai) (0.6.2)\n",
            "Requirement already satisfied: google-api-core in /usr/local/lib/python3.10/dist-packages (from google-generativeai) (2.11.1)\n",
            "Requirement already satisfied: google-api-python-client in /usr/local/lib/python3.10/dist-packages (from google-generativeai) (2.84.0)\n",
            "Requirement already satisfied: google-auth>=2.15.0 in /usr/local/lib/python3.10/dist-packages (from google-generativeai) (2.27.0)\n",
            "Requirement already satisfied: protobuf in /usr/local/lib/python3.10/dist-packages (from google-generativeai) (3.20.3)\n",
            "Requirement already satisfied: pydantic in /usr/local/lib/python3.10/dist-packages (from google-generativeai) (2.7.0)\n",
            "Requirement already satisfied: tqdm in /usr/local/lib/python3.10/dist-packages (from google-generativeai) (4.66.2)\n",
            "Requirement already satisfied: typing-extensions in /usr/local/lib/python3.10/dist-packages (from google-generativeai) (4.11.0)\n",
            "Requirement already satisfied: proto-plus<2.0.0dev,>=1.22.3 in /usr/local/lib/python3.10/dist-packages (from google-ai-generativelanguage==0.6.2->google-generativeai) (1.23.0)\n",
            "Requirement already satisfied: cachetools<6.0,>=2.0.0 in /usr/local/lib/python3.10/dist-packages (from google-auth>=2.15.0->google-generativeai) (5.3.3)\n",
            "Requirement already satisfied: pyasn1-modules>=0.2.1 in /usr/local/lib/python3.10/dist-packages (from google-auth>=2.15.0->google-generativeai) (0.4.0)\n",
            "Requirement already satisfied: rsa<5,>=3.1.4 in /usr/local/lib/python3.10/dist-packages (from google-auth>=2.15.0->google-generativeai) (4.9)\n",
            "Requirement already satisfied: googleapis-common-protos<2.0.dev0,>=1.56.2 in /usr/local/lib/python3.10/dist-packages (from google-api-core->google-generativeai) (1.63.0)\n",
            "Requirement already satisfied: requests<3.0.0.dev0,>=2.18.0 in /usr/local/lib/python3.10/dist-packages (from google-api-core->google-generativeai) (2.31.0)\n",
            "Requirement already satisfied: httplib2<1dev,>=0.15.0 in /usr/local/lib/python3.10/dist-packages (from google-api-python-client->google-generativeai) (0.22.0)\n",
            "Requirement already satisfied: google-auth-httplib2>=0.1.0 in /usr/local/lib/python3.10/dist-packages (from google-api-python-client->google-generativeai) (0.1.1)\n",
            "Requirement already satisfied: uritemplate<5,>=3.0.1 in /usr/local/lib/python3.10/dist-packages (from google-api-python-client->google-generativeai) (4.1.1)\n",
            "Requirement already satisfied: annotated-types>=0.4.0 in /usr/local/lib/python3.10/dist-packages (from pydantic->google-generativeai) (0.6.0)\n",
            "Requirement already satisfied: pydantic-core==2.18.1 in /usr/local/lib/python3.10/dist-packages (from pydantic->google-generativeai) (2.18.1)\n",
            "Requirement already satisfied: grpcio<2.0dev,>=1.33.2 in /usr/local/lib/python3.10/dist-packages (from google-api-core->google-generativeai) (1.62.2)\n",
            "Requirement already satisfied: grpcio-status<2.0.dev0,>=1.33.2 in /usr/local/lib/python3.10/dist-packages (from google-api-core->google-generativeai) (1.48.2)\n",
            "Requirement already satisfied: pyparsing!=3.0.0,!=3.0.1,!=3.0.2,!=3.0.3,<4,>=2.4.2 in /usr/local/lib/python3.10/dist-packages (from httplib2<1dev,>=0.15.0->google-api-python-client->google-generativeai) (3.1.2)\n",
            "Requirement already satisfied: pyasn1<0.7.0,>=0.4.6 in /usr/local/lib/python3.10/dist-packages (from pyasn1-modules>=0.2.1->google-auth>=2.15.0->google-generativeai) (0.6.0)\n",
            "Requirement already satisfied: charset-normalizer<4,>=2 in /usr/local/lib/python3.10/dist-packages (from requests<3.0.0.dev0,>=2.18.0->google-api-core->google-generativeai) (3.3.2)\n",
            "Requirement already satisfied: idna<4,>=2.5 in /usr/local/lib/python3.10/dist-packages (from requests<3.0.0.dev0,>=2.18.0->google-api-core->google-generativeai) (3.7)\n",
            "Requirement already satisfied: urllib3<3,>=1.21.1 in /usr/local/lib/python3.10/dist-packages (from requests<3.0.0.dev0,>=2.18.0->google-api-core->google-generativeai) (2.0.7)\n",
            "Requirement already satisfied: certifi>=2017.4.17 in /usr/local/lib/python3.10/dist-packages (from requests<3.0.0.dev0,>=2.18.0->google-api-core->google-generativeai) (2024.2.2)\n"
          ]
        }
      ],
      "source": [
        "!pip install -U google-generativeai\n",
        "import google.generativeai as genai\n",
        "from google.colab import userdata\n"
      ]
    },
    {
      "cell_type": "code",
      "source": [
        "GOOGLE_API_KEY=userdata.get('GOOGLE_API_KEY')\n",
        "genai.configure(api_key=GOOGLE_API_KEY)\n"
      ],
      "metadata": {
        "id": "e0m5E7EH6PYw"
      },
      "execution_count": 2,
      "outputs": []
    },
    {
      "cell_type": "code",
      "source": [
        "for m in genai.list_models():\n",
        "  if 'generateContent' in m.supported_generation_methods:\n",
        "    print(m.name)\n"
      ],
      "metadata": {
        "colab": {
          "base_uri": "https://localhost:8080/",
          "height": 139
        },
        "id": "hHx4zTba6TmG",
        "outputId": "c3b92da7-6069-4dc4-f912-ba4ae10c10cf"
      },
      "execution_count": 3,
      "outputs": [
        {
          "output_type": "stream",
          "name": "stdout",
          "text": [
            "models/gemini-1.0-pro\n",
            "models/gemini-1.0-pro-001\n",
            "models/gemini-1.0-pro-latest\n",
            "models/gemini-1.0-pro-vision-latest\n",
            "models/gemini-1.5-pro-latest\n",
            "models/gemini-pro\n",
            "models/gemini-pro-vision\n"
          ]
        }
      ]
    },
    {
      "cell_type": "code",
      "source": [
        "model = genai.GenerativeModel('gemini-1.0-pro')"
      ],
      "metadata": {
        "id": "WA5yZ3v46V2c"
      },
      "execution_count": 4,
      "outputs": []
    },
    {
      "cell_type": "code",
      "source": [
        "response = model.generate_content(\"Como fazer bolo de abacaxi\")\n",
        "print(\"Resposta\", response.text)"
      ],
      "metadata": {
        "colab": {
          "base_uri": "https://localhost:8080/",
          "height": 1000
        },
        "id": "krMbn1i66Ybz",
        "outputId": "ae764647-2d05-467f-c914-c9c1aa597684"
      },
      "execution_count": 5,
      "outputs": [
        {
          "output_type": "stream",
          "name": "stdout",
          "text": [
            "Resposta **Ingredientes:**\n",
            "\n",
            "**Para a massa:**\n",
            "\n",
            "* 3 xícaras de farinha de trigo\n",
            "* 2 xícaras de açúcar\n",
            "* 3 colheres de sopa de fermento em pó\n",
            "* 1/2 colher de chá de sal\n",
            "* 1 xícara de manteiga sem sal, amolecida\n",
            "* 3 ovos grandes\n",
            "* 1 xícara de leite\n",
            "\n",
            "**Para o recheio de abacaxi:**\n",
            "\n",
            "* 1 abacaxi grande, descascado, cortado em cubos\n",
            "* 1 xícara de açúcar\n",
            "* 1/4 xícara de amido de milho\n",
            "* 1/4 xícara de água\n",
            "* 1 colher de sopa de suco de limão\n",
            "\n",
            "**Para a cobertura de cream cheese:**\n",
            "\n",
            "* 8 onças de cream cheese, amolecido\n",
            "* 1 xícara de manteiga sem sal, amolecida\n",
            "* 3 xícaras de açúcar de confeiteiro\n",
            "* 1 colher de chá de extrato de baunilha\n",
            "\n",
            "**Instruções:**\n",
            "\n",
            "**Para fazer a massa:**\n",
            "\n",
            "1. Pré-aqueça o forno a 180°C. Unte e enfarinhe uma forma de bolo de 23 cm.\n",
            "2. Em uma tigela grande, misture a farinha, o açúcar, o fermento e o sal.\n",
            "3. Em outra tigela grande, bata a manteiga até ficar cremosa. Adicione os ovos um de cada vez, batendo bem após cada adição.\n",
            "4. Alternadamente, adicione os ingredientes secos e o leite à mistura de manteiga, começando e terminando com os ingredientes secos. Bata até incorporar.\n",
            "\n",
            "**Para fazer o recheio de abacaxi:**\n",
            "\n",
            "1. Em uma panela média, misture o abacaxi, o açúcar, o amido de milho e a água. Leve para ferver em fogo médio, mexendo sempre.\n",
            "2. Reduza o fogo para baixo e cozinhe por 5 minutos, ou até o recheio engrossar.\n",
            "3. Retire do fogo e adicione o suco de limão.\n",
            "\n",
            "**Para montar o bolo:**\n",
            "\n",
            "1. Despeje metade da massa na forma preparada.\n",
            "2. Espalhe o recheio de abacaxi sobre a massa.\n",
            "3. Despeje o restante da massa sobre o recheio.\n",
            "4. Asse por 45-50 minutos, ou até que um palito inserido no centro saia limpo.\n",
            "\n",
            "**Para fazer a cobertura de cream cheese:**\n",
            "\n",
            "1. Em uma tigela grande, bata o cream cheese e a manteiga até incorporar.\n",
            "2. Gradualmente, adicione o açúcar de confeiteiro, batendo até ficar homogêneo.\n",
            "3. Adicione o extrato de baunilha e bata até incorporar.\n",
            "\n",
            "**Para terminar o bolo:**\n",
            "\n",
            "1. Deixe o bolo esfriar completamente na forma.\n",
            "2. Espalhe a cobertura de cream cheese sobre o bolo.\n",
            "3. Decore como desejar.\n"
          ]
        }
      ]
    }
  ]
}